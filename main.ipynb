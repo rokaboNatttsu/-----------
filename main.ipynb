{
 "cells": [
  {
   "cell_type": "code",
   "execution_count": 1,
   "metadata": {},
   "outputs": [],
   "source": [
    "import numpy as np\n",
    "import pandas as pd"
   ]
  },
  {
   "cell_type": "code",
   "execution_count": 2,
   "metadata": {},
   "outputs": [],
   "source": [
    "def make_dict():\n",
    "    d = {\"Startpage\":[],\n",
    "         \"Norton\":[],\n",
    "         \"YAHOO! JAPAN\":[],\n",
    "         \"start.me\":[],\n",
    "         \"Gibiru\":[],\n",
    "         \"SearX\":[],\n",
    "         \"SAGOOL\":[], \n",
    "         \"metaGer\":[],\n",
    "         \"yahoo!\":[],\n",
    "         \"swisscows\":[],\n",
    "         \"Ecosia\":[],\n",
    "         \"Bing\":[],\n",
    "         \"DuckDuckGo\":[],   #   \"検索エンジン名\":[],    で行を追加してカスタマイズ\n",
    "        }\n",
    "    return d"
   ]
  },
  {
   "cell_type": "code",
   "execution_count": 3,
   "metadata": {},
   "outputs": [],
   "source": [
    "def input_info(d):\n",
    "    for engine in d:\n",
    "        while True:\n",
    "            print(engine)\n",
    "            for i in range(10):\n",
    "                URL = input(\"検索\"+str(i+1)+\"位：\")\n",
    "                d[engine].append(URL)\n",
    "            if input(\"all clear? [y/n]:\") == \"y\":\n",
    "                break\n",
    "            else:\n",
    "                d[engine] = []\n",
    "        print()\n",
    "    return d\n",
    "\n",
    "def scoring(d):\n",
    "    df = pd.DataFrame(np.zeros((len(d), len(d))), index=list(d.keys()), columns=list(d.keys()) )\n",
    "    M = sum([i**2 for i in range(1, 11)])\n",
    "    for engine_1 in d:\n",
    "        for engine_2 in d:\n",
    "            score = 0\n",
    "            for i in range(10):\n",
    "                for j in range(10):\n",
    "                    score += (10-i)*(10-j)*(d[engine_1][i] == d[engine_2][j])\n",
    "            df.loc[engine_1, engine_2] = score/M\n",
    "    return df"
   ]
  },
  {
   "cell_type": "code",
   "execution_count": null,
   "metadata": {},
   "outputs": [],
   "source": [
    "d = make_dict()\n",
    "input_info(d)\n",
    "df = scoring(d)\n",
    "df"
   ]
  }
 ],
 "metadata": {
  "interpreter": {
   "hash": "1d79d47b9e09916282e80d76f5dda9787d541e37fc5360372eab0d1a1f7e05d3"
  },
  "kernelspec": {
   "display_name": "Python 3.10.4 64-bit (system)",
   "language": "python",
   "name": "python3"
  },
  "language_info": {
   "codemirror_mode": {
    "name": "ipython",
    "version": 3
   },
   "file_extension": ".py",
   "mimetype": "text/x-python",
   "name": "python",
   "nbconvert_exporter": "python",
   "pygments_lexer": "ipython3",
   "version": "3.10.4"
  }
 },
 "nbformat": 4,
 "nbformat_minor": 4
}
